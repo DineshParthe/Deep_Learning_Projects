{
  "nbformat": 4,
  "nbformat_minor": 0,
  "metadata": {
    "colab": {
      "name": "Class day 12th Jan 2020.ipynb",
      "provenance": []
    },
    "kernelspec": {
      "name": "python3",
      "display_name": "Python 3"
    }
  },
  "cells": [
    {
      "cell_type": "code",
      "metadata": {
        "id": "zfgabGu-3quI",
        "colab_type": "code",
        "outputId": "76e5b6c9-dedb-448a-dda9-160dd80f31e7",
        "colab": {
          "base_uri": "https://localhost:8080/",
          "height": 80
        }
      },
      "source": [
        "import pandas as pd\n",
        "import numpy as np\n",
        "import io\n",
        "import tensorflow as tf\n",
        "import keras"
      ],
      "execution_count": 0,
      "outputs": [
        {
          "output_type": "display_data",
          "data": {
            "text/html": [
              "<p style=\"color: red;\">\n",
              "The default version of TensorFlow in Colab will soon switch to TensorFlow 2.x.<br>\n",
              "We recommend you <a href=\"https://www.tensorflow.org/guide/migrate\" target=\"_blank\">upgrade</a> now \n",
              "or ensure your notebook will continue to use TensorFlow 1.x via the <code>%tensorflow_version 1.x</code> magic:\n",
              "<a href=\"https://colab.research.google.com/notebooks/tensorflow_version.ipynb\" target=\"_blank\">more info</a>.</p>\n"
            ],
            "text/plain": [
              "<IPython.core.display.HTML object>"
            ]
          },
          "metadata": {
            "tags": []
          }
        },
        {
          "output_type": "stream",
          "text": [
            "Using TensorFlow backend.\n"
          ],
          "name": "stderr"
        }
      ]
    },
    {
      "cell_type": "code",
      "metadata": {
        "id": "xoMk45Uw5UH6",
        "colab_type": "code",
        "colab": {}
      },
      "source": [
        "from sklearn.datasets import load_iris"
      ],
      "execution_count": 0,
      "outputs": []
    },
    {
      "cell_type": "code",
      "metadata": {
        "id": "ppncTm2P5iFa",
        "colab_type": "code",
        "colab": {}
      },
      "source": [
        "iris = load_iris()"
      ],
      "execution_count": 0,
      "outputs": []
    },
    {
      "cell_type": "code",
      "metadata": {
        "id": "rVOU8F555ly3",
        "colab_type": "code",
        "outputId": "e4f1bb54-cf4d-4870-fa07-4d4b2c379352",
        "colab": {
          "base_uri": "https://localhost:8080/",
          "height": 34
        }
      },
      "source": [
        "type(iris)"
      ],
      "execution_count": 0,
      "outputs": [
        {
          "output_type": "execute_result",
          "data": {
            "text/plain": [
              "sklearn.utils.Bunch"
            ]
          },
          "metadata": {
            "tags": []
          },
          "execution_count": 4
        }
      ]
    },
    {
      "cell_type": "code",
      "metadata": {
        "id": "nx6jK0RY5rat",
        "colab_type": "code",
        "outputId": "8296b942-97a7-4194-c6a9-89d1cb05e669",
        "colab": {
          "base_uri": "https://localhost:8080/",
          "height": 34
        }
      },
      "source": [
        "iris['data'].shape"
      ],
      "execution_count": 0,
      "outputs": [
        {
          "output_type": "execute_result",
          "data": {
            "text/plain": [
              "(150, 4)"
            ]
          },
          "metadata": {
            "tags": []
          },
          "execution_count": 6
        }
      ]
    },
    {
      "cell_type": "code",
      "metadata": {
        "id": "4vfzGVSW5vxq",
        "colab_type": "code",
        "outputId": "9f2c3015-c244-4111-ccb4-51b71c3ae0d7",
        "colab": {
          "base_uri": "https://localhost:8080/",
          "height": 34
        }
      },
      "source": [
        "iris.keys()"
      ],
      "execution_count": 0,
      "outputs": [
        {
          "output_type": "execute_result",
          "data": {
            "text/plain": [
              "dict_keys(['data', 'target', 'target_names', 'DESCR', 'feature_names', 'filename'])"
            ]
          },
          "metadata": {
            "tags": []
          },
          "execution_count": 8
        }
      ]
    },
    {
      "cell_type": "code",
      "metadata": {
        "id": "LKj_f_pK53Ow",
        "colab_type": "code",
        "outputId": "b8da1be9-0772-4a91-a6db-c571ce6992cb",
        "colab": {
          "base_uri": "https://localhost:8080/",
          "height": 85
        }
      },
      "source": [
        "iris['feature_names']"
      ],
      "execution_count": 0,
      "outputs": [
        {
          "output_type": "execute_result",
          "data": {
            "text/plain": [
              "['sepal length (cm)',\n",
              " 'sepal width (cm)',\n",
              " 'petal length (cm)',\n",
              " 'petal width (cm)']"
            ]
          },
          "metadata": {
            "tags": []
          },
          "execution_count": 9
        }
      ]
    },
    {
      "cell_type": "code",
      "metadata": {
        "id": "JKB4IDX86CkO",
        "colab_type": "code",
        "outputId": "5dc6e55d-f538-4ee0-da42-a72b472d78eb",
        "colab": {
          "base_uri": "https://localhost:8080/",
          "height": 34
        }
      },
      "source": [
        "iris['filename']"
      ],
      "execution_count": 0,
      "outputs": [
        {
          "output_type": "execute_result",
          "data": {
            "text/plain": [
              "'/usr/local/lib/python3.6/dist-packages/sklearn/datasets/data/iris.csv'"
            ]
          },
          "metadata": {
            "tags": []
          },
          "execution_count": 10
        }
      ]
    },
    {
      "cell_type": "code",
      "metadata": {
        "id": "4gEC5z-56Jpu",
        "colab_type": "code",
        "colab": {}
      },
      "source": [
        "df= pd.DataFrame(iris['data'], columns=iris['feature_names'])"
      ],
      "execution_count": 0,
      "outputs": []
    },
    {
      "cell_type": "code",
      "metadata": {
        "id": "sTnnqpzW6WFE",
        "colab_type": "code",
        "colab": {}
      },
      "source": [
        "df['target']=iris['target']\n"
      ],
      "execution_count": 0,
      "outputs": []
    },
    {
      "cell_type": "code",
      "metadata": {
        "id": "F_UM9iA_6nBU",
        "colab_type": "code",
        "outputId": "136bba6d-4f5b-40e9-fb32-79ad42011b6f",
        "colab": {
          "base_uri": "https://localhost:8080/",
          "height": 204
        }
      },
      "source": [
        "df.head()"
      ],
      "execution_count": 0,
      "outputs": [
        {
          "output_type": "execute_result",
          "data": {
            "text/html": [
              "<div>\n",
              "<style scoped>\n",
              "    .dataframe tbody tr th:only-of-type {\n",
              "        vertical-align: middle;\n",
              "    }\n",
              "\n",
              "    .dataframe tbody tr th {\n",
              "        vertical-align: top;\n",
              "    }\n",
              "\n",
              "    .dataframe thead th {\n",
              "        text-align: right;\n",
              "    }\n",
              "</style>\n",
              "<table border=\"1\" class=\"dataframe\">\n",
              "  <thead>\n",
              "    <tr style=\"text-align: right;\">\n",
              "      <th></th>\n",
              "      <th>sepal length (cm)</th>\n",
              "      <th>sepal width (cm)</th>\n",
              "      <th>petal length (cm)</th>\n",
              "      <th>petal width (cm)</th>\n",
              "      <th>target</th>\n",
              "    </tr>\n",
              "  </thead>\n",
              "  <tbody>\n",
              "    <tr>\n",
              "      <th>0</th>\n",
              "      <td>5.1</td>\n",
              "      <td>3.5</td>\n",
              "      <td>1.4</td>\n",
              "      <td>0.2</td>\n",
              "      <td>0</td>\n",
              "    </tr>\n",
              "    <tr>\n",
              "      <th>1</th>\n",
              "      <td>4.9</td>\n",
              "      <td>3.0</td>\n",
              "      <td>1.4</td>\n",
              "      <td>0.2</td>\n",
              "      <td>0</td>\n",
              "    </tr>\n",
              "    <tr>\n",
              "      <th>2</th>\n",
              "      <td>4.7</td>\n",
              "      <td>3.2</td>\n",
              "      <td>1.3</td>\n",
              "      <td>0.2</td>\n",
              "      <td>0</td>\n",
              "    </tr>\n",
              "    <tr>\n",
              "      <th>3</th>\n",
              "      <td>4.6</td>\n",
              "      <td>3.1</td>\n",
              "      <td>1.5</td>\n",
              "      <td>0.2</td>\n",
              "      <td>0</td>\n",
              "    </tr>\n",
              "    <tr>\n",
              "      <th>4</th>\n",
              "      <td>5.0</td>\n",
              "      <td>3.6</td>\n",
              "      <td>1.4</td>\n",
              "      <td>0.2</td>\n",
              "      <td>0</td>\n",
              "    </tr>\n",
              "  </tbody>\n",
              "</table>\n",
              "</div>"
            ],
            "text/plain": [
              "   sepal length (cm)  sepal width (cm)  ...  petal width (cm)  target\n",
              "0                5.1               3.5  ...               0.2       0\n",
              "1                4.9               3.0  ...               0.2       0\n",
              "2                4.7               3.2  ...               0.2       0\n",
              "3                4.6               3.1  ...               0.2       0\n",
              "4                5.0               3.6  ...               0.2       0\n",
              "\n",
              "[5 rows x 5 columns]"
            ]
          },
          "metadata": {
            "tags": []
          },
          "execution_count": 15
        }
      ]
    },
    {
      "cell_type": "code",
      "metadata": {
        "id": "Q1U_KPUk6rQ_",
        "colab_type": "code",
        "colab": {}
      },
      "source": [
        "df.drop('target', axis = 1, inplace = True)"
      ],
      "execution_count": 0,
      "outputs": []
    },
    {
      "cell_type": "code",
      "metadata": {
        "id": "tA7h8DWr8Wqk",
        "colab_type": "code",
        "outputId": "e4f42f88-9d9d-4884-f255-27185e7c835e",
        "colab": {
          "base_uri": "https://localhost:8080/",
          "height": 204
        }
      },
      "source": [
        "df.head()"
      ],
      "execution_count": 0,
      "outputs": [
        {
          "output_type": "execute_result",
          "data": {
            "text/html": [
              "<div>\n",
              "<style scoped>\n",
              "    .dataframe tbody tr th:only-of-type {\n",
              "        vertical-align: middle;\n",
              "    }\n",
              "\n",
              "    .dataframe tbody tr th {\n",
              "        vertical-align: top;\n",
              "    }\n",
              "\n",
              "    .dataframe thead th {\n",
              "        text-align: right;\n",
              "    }\n",
              "</style>\n",
              "<table border=\"1\" class=\"dataframe\">\n",
              "  <thead>\n",
              "    <tr style=\"text-align: right;\">\n",
              "      <th></th>\n",
              "      <th>sepal length (cm)</th>\n",
              "      <th>sepal width (cm)</th>\n",
              "      <th>petal length (cm)</th>\n",
              "      <th>petal width (cm)</th>\n",
              "    </tr>\n",
              "  </thead>\n",
              "  <tbody>\n",
              "    <tr>\n",
              "      <th>0</th>\n",
              "      <td>5.1</td>\n",
              "      <td>3.5</td>\n",
              "      <td>1.4</td>\n",
              "      <td>0.2</td>\n",
              "    </tr>\n",
              "    <tr>\n",
              "      <th>1</th>\n",
              "      <td>4.9</td>\n",
              "      <td>3.0</td>\n",
              "      <td>1.4</td>\n",
              "      <td>0.2</td>\n",
              "    </tr>\n",
              "    <tr>\n",
              "      <th>2</th>\n",
              "      <td>4.7</td>\n",
              "      <td>3.2</td>\n",
              "      <td>1.3</td>\n",
              "      <td>0.2</td>\n",
              "    </tr>\n",
              "    <tr>\n",
              "      <th>3</th>\n",
              "      <td>4.6</td>\n",
              "      <td>3.1</td>\n",
              "      <td>1.5</td>\n",
              "      <td>0.2</td>\n",
              "    </tr>\n",
              "    <tr>\n",
              "      <th>4</th>\n",
              "      <td>5.0</td>\n",
              "      <td>3.6</td>\n",
              "      <td>1.4</td>\n",
              "      <td>0.2</td>\n",
              "    </tr>\n",
              "  </tbody>\n",
              "</table>\n",
              "</div>"
            ],
            "text/plain": [
              "   sepal length (cm)  sepal width (cm)  petal length (cm)  petal width (cm)\n",
              "0                5.1               3.5                1.4               0.2\n",
              "1                4.9               3.0                1.4               0.2\n",
              "2                4.7               3.2                1.3               0.2\n",
              "3                4.6               3.1                1.5               0.2\n",
              "4                5.0               3.6                1.4               0.2"
            ]
          },
          "metadata": {
            "tags": []
          },
          "execution_count": 17
        }
      ]
    },
    {
      "cell_type": "code",
      "metadata": {
        "id": "-_s0LJF-8aJe",
        "colab_type": "code",
        "colab": {}
      },
      "source": [
        "y = iris['target']"
      ],
      "execution_count": 0,
      "outputs": []
    },
    {
      "cell_type": "code",
      "metadata": {
        "id": "Z2Bg_Dgh8f8E",
        "colab_type": "code",
        "outputId": "4240e6e1-1eb7-4d8b-c4e6-47d5d8fed0fb",
        "colab": {
          "base_uri": "https://localhost:8080/",
          "height": 85
        }
      },
      "source": [
        "newcolumns = []\n",
        "for i in df.columns:\n",
        "  print(i)\n",
        "  i = i[:-5]\n",
        "  i = i.replace(' ', '_')\n",
        "  newcolumns.append(i)"
      ],
      "execution_count": 0,
      "outputs": [
        {
          "output_type": "stream",
          "text": [
            "sepal length (cm)\n",
            "sepal width (cm)\n",
            "petal length (cm)\n",
            "petal width (cm)\n"
          ],
          "name": "stdout"
        }
      ]
    },
    {
      "cell_type": "code",
      "metadata": {
        "id": "fG0Oa1zd8wJY",
        "colab_type": "code",
        "colab": {}
      },
      "source": [
        "df.columns = newcolumns"
      ],
      "execution_count": 0,
      "outputs": []
    },
    {
      "cell_type": "code",
      "metadata": {
        "id": "2kvGitrE80wR",
        "colab_type": "code",
        "outputId": "abe6f13f-d00a-4454-a691-1b615e024781",
        "colab": {
          "base_uri": "https://localhost:8080/",
          "height": 204
        }
      },
      "source": [
        "df.head()"
      ],
      "execution_count": 0,
      "outputs": [
        {
          "output_type": "execute_result",
          "data": {
            "text/html": [
              "<div>\n",
              "<style scoped>\n",
              "    .dataframe tbody tr th:only-of-type {\n",
              "        vertical-align: middle;\n",
              "    }\n",
              "\n",
              "    .dataframe tbody tr th {\n",
              "        vertical-align: top;\n",
              "    }\n",
              "\n",
              "    .dataframe thead th {\n",
              "        text-align: right;\n",
              "    }\n",
              "</style>\n",
              "<table border=\"1\" class=\"dataframe\">\n",
              "  <thead>\n",
              "    <tr style=\"text-align: right;\">\n",
              "      <th></th>\n",
              "      <th>sepal_length</th>\n",
              "      <th>sepal_width</th>\n",
              "      <th>petal_length</th>\n",
              "      <th>petal_width</th>\n",
              "    </tr>\n",
              "  </thead>\n",
              "  <tbody>\n",
              "    <tr>\n",
              "      <th>0</th>\n",
              "      <td>5.1</td>\n",
              "      <td>3.5</td>\n",
              "      <td>1.4</td>\n",
              "      <td>0.2</td>\n",
              "    </tr>\n",
              "    <tr>\n",
              "      <th>1</th>\n",
              "      <td>4.9</td>\n",
              "      <td>3.0</td>\n",
              "      <td>1.4</td>\n",
              "      <td>0.2</td>\n",
              "    </tr>\n",
              "    <tr>\n",
              "      <th>2</th>\n",
              "      <td>4.7</td>\n",
              "      <td>3.2</td>\n",
              "      <td>1.3</td>\n",
              "      <td>0.2</td>\n",
              "    </tr>\n",
              "    <tr>\n",
              "      <th>3</th>\n",
              "      <td>4.6</td>\n",
              "      <td>3.1</td>\n",
              "      <td>1.5</td>\n",
              "      <td>0.2</td>\n",
              "    </tr>\n",
              "    <tr>\n",
              "      <th>4</th>\n",
              "      <td>5.0</td>\n",
              "      <td>3.6</td>\n",
              "      <td>1.4</td>\n",
              "      <td>0.2</td>\n",
              "    </tr>\n",
              "  </tbody>\n",
              "</table>\n",
              "</div>"
            ],
            "text/plain": [
              "   sepal_length  sepal_width  petal_length  petal_width\n",
              "0           5.1          3.5           1.4          0.2\n",
              "1           4.9          3.0           1.4          0.2\n",
              "2           4.7          3.2           1.3          0.2\n",
              "3           4.6          3.1           1.5          0.2\n",
              "4           5.0          3.6           1.4          0.2"
            ]
          },
          "metadata": {
            "tags": []
          },
          "execution_count": 22
        }
      ]
    },
    {
      "cell_type": "code",
      "metadata": {
        "id": "bSpS-LJi81na",
        "colab_type": "code",
        "colab": {}
      },
      "source": [
        "feat_cols = []\n",
        "for i in df.columns:\n",
        "  feat_cols.append(tf.feature_column.numeric_column(i))"
      ],
      "execution_count": 0,
      "outputs": []
    },
    {
      "cell_type": "code",
      "metadata": {
        "id": "ouYUZkbe91By",
        "colab_type": "code",
        "outputId": "81306664-c636-4184-d120-c536aaac7b52",
        "colab": {
          "base_uri": "https://localhost:8080/",
          "height": 85
        }
      },
      "source": [
        "feat_cols"
      ],
      "execution_count": 0,
      "outputs": [
        {
          "output_type": "execute_result",
          "data": {
            "text/plain": [
              "[NumericColumn(key='sepal_length', shape=(1,), default_value=None, dtype=tf.float32, normalizer_fn=None),\n",
              " NumericColumn(key='sepal_width', shape=(1,), default_value=None, dtype=tf.float32, normalizer_fn=None),\n",
              " NumericColumn(key='petal_length', shape=(1,), default_value=None, dtype=tf.float32, normalizer_fn=None),\n",
              " NumericColumn(key='petal_width', shape=(1,), default_value=None, dtype=tf.float32, normalizer_fn=None)]"
            ]
          },
          "metadata": {
            "tags": []
          },
          "execution_count": 24
        }
      ]
    },
    {
      "cell_type": "code",
      "metadata": {
        "id": "_l86Ukvf9_iA",
        "colab_type": "code",
        "colab": {}
      },
      "source": [
        "y = pd.Series(data = y)"
      ],
      "execution_count": 0,
      "outputs": []
    },
    {
      "cell_type": "code",
      "metadata": {
        "id": "dt9wC666_zNo",
        "colab_type": "code",
        "outputId": "195bb185-edbb-4b17-a9f4-64b7078767c6",
        "colab": {
          "base_uri": "https://localhost:8080/",
          "height": 221
        }
      },
      "source": [
        "y"
      ],
      "execution_count": 0,
      "outputs": [
        {
          "output_type": "execute_result",
          "data": {
            "text/plain": [
              "0      0\n",
              "1      0\n",
              "2      0\n",
              "3      0\n",
              "4      0\n",
              "      ..\n",
              "145    2\n",
              "146    2\n",
              "147    2\n",
              "148    2\n",
              "149    2\n",
              "Length: 150, dtype: int64"
            ]
          },
          "metadata": {
            "tags": []
          },
          "execution_count": 26
        }
      ]
    },
    {
      "cell_type": "code",
      "metadata": {
        "id": "RFuBYu4f_z1I",
        "colab_type": "code",
        "colab": {}
      },
      "source": [
        "from sklearn.model_selection import train_test_split"
      ],
      "execution_count": 0,
      "outputs": []
    },
    {
      "cell_type": "code",
      "metadata": {
        "id": "ELagI5YvACdq",
        "colab_type": "code",
        "colab": {}
      },
      "source": [
        "x_train, x_test, y_train, y_test = train_test_split(df,y, test_size = 0.3)"
      ],
      "execution_count": 0,
      "outputs": []
    },
    {
      "cell_type": "code",
      "metadata": {
        "id": "ok0gQUIYAS9h",
        "colab_type": "code",
        "colab": {}
      },
      "source": [
        "input_func = tf.estimator.inputs.pandas_input_fn(x = x_train, y = y_train, batch_size=10, shuffle=True) #shhhuffle will shuffle the data"
      ],
      "execution_count": 0,
      "outputs": []
    },
    {
      "cell_type": "code",
      "metadata": {
        "id": "LgxXZiPdAgXu",
        "colab_type": "code",
        "outputId": "dd77e45b-5f0e-4774-c709-47ce33d3b60e",
        "colab": {
          "base_uri": "https://localhost:8080/",
          "height": 34
        }
      },
      "source": [
        "input_func"
      ],
      "execution_count": 0,
      "outputs": [
        {
          "output_type": "execute_result",
          "data": {
            "text/plain": [
              "<function tensorflow_estimator.python.estimator.inputs.pandas_io.pandas_input_fn.<locals>.input_fn>"
            ]
          },
          "metadata": {
            "tags": []
          },
          "execution_count": 30
        }
      ]
    },
    {
      "cell_type": "code",
      "metadata": {
        "id": "jgM1qNBKAxEl",
        "colab_type": "code",
        "outputId": "61c36929-c48d-4e9e-8566-a06a62f22a53",
        "colab": {
          "base_uri": "https://localhost:8080/",
          "height": 190
        }
      },
      "source": [
        "classifier = tf.estimator.DNNClassifier(hidden_units=[10,20], n_classes=3,feature_columns=feat_cols) #for hidden units we can prpvide as 3, 3 as teire are 5 columne divide by 2 whichh gives as 2.5"
      ],
      "execution_count": 0,
      "outputs": [
        {
          "output_type": "stream",
          "text": [
            "INFO:tensorflow:Using default config.\n",
            "WARNING:tensorflow:Using temporary folder as model directory: /tmp/tmpf700ai3a\n",
            "INFO:tensorflow:Using config: {'_model_dir': '/tmp/tmpf700ai3a', '_tf_random_seed': None, '_save_summary_steps': 100, '_save_checkpoints_steps': None, '_save_checkpoints_secs': 600, '_session_config': allow_soft_placement: true\n",
            "graph_options {\n",
            "  rewrite_options {\n",
            "    meta_optimizer_iterations: ONE\n",
            "  }\n",
            "}\n",
            ", '_keep_checkpoint_max': 5, '_keep_checkpoint_every_n_hours': 10000, '_log_step_count_steps': 100, '_train_distribute': None, '_device_fn': None, '_protocol': None, '_eval_distribute': None, '_experimental_distribute': None, '_experimental_max_worker_delay_secs': None, '_session_creation_timeout_secs': 7200, '_service': None, '_cluster_spec': <tensorflow.python.training.server_lib.ClusterSpec object at 0x7efcfa99eb70>, '_task_type': 'worker', '_task_id': 0, '_global_id_in_cluster': 0, '_master': '', '_evaluation_master': '', '_is_chief': True, '_num_ps_replicas': 0, '_num_worker_replicas': 1}\n"
          ],
          "name": "stdout"
        }
      ]
    },
    {
      "cell_type": "code",
      "metadata": {
        "id": "G5HlqaNxCnFm",
        "colab_type": "code",
        "outputId": "4185abe7-d649-41d1-e4f0-3fb4bfaf33cd",
        "colab": {
          "base_uri": "https://localhost:8080/",
          "height": 632
        }
      },
      "source": [
        "classifier.train(input_func, steps = 50)"
      ],
      "execution_count": 0,
      "outputs": [
        {
          "output_type": "stream",
          "text": [
            "WARNING:tensorflow:From /usr/local/lib/python3.6/dist-packages/tensorflow_core/python/training/training_util.py:236: Variable.initialized_value (from tensorflow.python.ops.variables) is deprecated and will be removed in a future version.\n",
            "Instructions for updating:\n",
            "Use Variable.read_value. Variables in 2.X are initialized automatically both in eager and graph (inside tf.defun) contexts.\n",
            "WARNING:tensorflow:From /usr/local/lib/python3.6/dist-packages/tensorflow_estimator/python/estimator/inputs/queues/feeding_queue_runner.py:62: QueueRunner.__init__ (from tensorflow.python.training.queue_runner_impl) is deprecated and will be removed in a future version.\n",
            "Instructions for updating:\n",
            "To construct input pipelines, use the `tf.data` module.\n",
            "WARNING:tensorflow:From /usr/local/lib/python3.6/dist-packages/tensorflow_estimator/python/estimator/inputs/queues/feeding_functions.py:500: add_queue_runner (from tensorflow.python.training.queue_runner_impl) is deprecated and will be removed in a future version.\n",
            "Instructions for updating:\n",
            "To construct input pipelines, use the `tf.data` module.\n",
            "INFO:tensorflow:Calling model_fn.\n",
            "WARNING:tensorflow:From /usr/local/lib/python3.6/dist-packages/tensorflow_core/python/ops/resource_variable_ops.py:1630: calling BaseResourceVariable.__init__ (from tensorflow.python.ops.resource_variable_ops) with constraint is deprecated and will be removed in a future version.\n",
            "Instructions for updating:\n",
            "If using Keras pass *_constraint arguments to layers.\n",
            "WARNING:tensorflow:From /usr/local/lib/python3.6/dist-packages/tensorflow_estimator/python/estimator/canned/head.py:437: to_float (from tensorflow.python.ops.math_ops) is deprecated and will be removed in a future version.\n",
            "Instructions for updating:\n",
            "Use `tf.cast` instead.\n",
            "WARNING:tensorflow:From /usr/local/lib/python3.6/dist-packages/tensorflow_core/python/training/adagrad.py:76: calling Constant.__init__ (from tensorflow.python.ops.init_ops) with dtype is deprecated and will be removed in a future version.\n",
            "Instructions for updating:\n",
            "Call initializer instance with the dtype argument instead of passing it to the constructor\n",
            "INFO:tensorflow:Done calling model_fn.\n",
            "INFO:tensorflow:Create CheckpointSaverHook.\n",
            "WARNING:tensorflow:From /usr/local/lib/python3.6/dist-packages/tensorflow_core/python/ops/array_ops.py:1475: where (from tensorflow.python.ops.array_ops) is deprecated and will be removed in a future version.\n",
            "Instructions for updating:\n",
            "Use tf.where in 2.0, which has the same broadcast rule as np.where\n",
            "INFO:tensorflow:Graph was finalized.\n",
            "INFO:tensorflow:Running local_init_op.\n",
            "INFO:tensorflow:Done running local_init_op.\n",
            "WARNING:tensorflow:From /usr/local/lib/python3.6/dist-packages/tensorflow_core/python/training/monitored_session.py:882: start_queue_runners (from tensorflow.python.training.queue_runner_impl) is deprecated and will be removed in a future version.\n",
            "Instructions for updating:\n",
            "To construct input pipelines, use the `tf.data` module.\n",
            "INFO:tensorflow:Saving checkpoints for 0 into /tmp/tmpf700ai3a/model.ckpt.\n",
            "INFO:tensorflow:loss = 34.68731, step = 1\n",
            "INFO:tensorflow:Saving checkpoints for 11 into /tmp/tmpf700ai3a/model.ckpt.\n",
            "INFO:tensorflow:Loss for final step: 2.6998603.\n"
          ],
          "name": "stdout"
        },
        {
          "output_type": "execute_result",
          "data": {
            "text/plain": [
              "<tensorflow_estimator.python.estimator.canned.dnn.DNNClassifier at 0x7efcfa988208>"
            ]
          },
          "metadata": {
            "tags": []
          },
          "execution_count": 32
        }
      ]
    },
    {
      "cell_type": "code",
      "metadata": {
        "id": "PalCbPKxCvUL",
        "colab_type": "code",
        "colab": {}
      },
      "source": [
        "output_func = tf.estimator.inputs.pandas_input_fn(x = x_test, batch_size=len(x_test), shuffle= False)"
      ],
      "execution_count": 0,
      "outputs": []
    },
    {
      "cell_type": "code",
      "metadata": {
        "id": "xnRr9YhHEMEf",
        "colab_type": "code",
        "outputId": "9bb7038f-6db7-4ca4-e866-143fa33a72ae",
        "colab": {
          "base_uri": "https://localhost:8080/",
          "height": 119
        }
      },
      "source": [
        "predictions = list(classifier.predict(output_func))"
      ],
      "execution_count": 0,
      "outputs": [
        {
          "output_type": "stream",
          "text": [
            "INFO:tensorflow:Calling model_fn.\n",
            "INFO:tensorflow:Done calling model_fn.\n",
            "INFO:tensorflow:Graph was finalized.\n",
            "INFO:tensorflow:Restoring parameters from /tmp/tmpf700ai3a/model.ckpt-11\n",
            "INFO:tensorflow:Running local_init_op.\n",
            "INFO:tensorflow:Done running local_init_op.\n"
          ],
          "name": "stdout"
        }
      ]
    },
    {
      "cell_type": "code",
      "metadata": {
        "id": "R6M9L2MiESh1",
        "colab_type": "code",
        "outputId": "10474018-774f-41f2-c9a4-6fda4d46ae76",
        "colab": {
          "base_uri": "https://localhost:8080/",
          "height": 1000
        }
      },
      "source": [
        "predictions"
      ],
      "execution_count": 0,
      "outputs": [
        {
          "output_type": "execute_result",
          "data": {
            "text/plain": [
              "[{'all_class_ids': array([0, 1, 2], dtype=int32),\n",
              "  'all_classes': array([b'0', b'1', b'2'], dtype=object),\n",
              "  'class_ids': array([2]),\n",
              "  'classes': array([b'2'], dtype=object),\n",
              "  'logits': array([-0.5850617 , -0.06434987,  1.0560557 ], dtype=float32),\n",
              "  'probabilities': array([0.12748341, 0.2145833 , 0.6579333 ], dtype=float32)},\n",
              " {'all_class_ids': array([0, 1, 2], dtype=int32),\n",
              "  'all_classes': array([b'0', b'1', b'2'], dtype=object),\n",
              "  'class_ids': array([2]),\n",
              "  'classes': array([b'2'], dtype=object),\n",
              "  'logits': array([-0.8404156, -0.2460143,  1.5485122], dtype=float32),\n",
              "  'probabilities': array([0.07291953, 0.13212626, 0.7949542 ], dtype=float32)},\n",
              " {'all_class_ids': array([0, 1, 2], dtype=int32),\n",
              "  'all_classes': array([b'0', b'1', b'2'], dtype=object),\n",
              "  'class_ids': array([2]),\n",
              "  'classes': array([b'2'], dtype=object),\n",
              "  'logits': array([-0.8481388 , -0.12750322,  1.495643  ], dtype=float32),\n",
              "  'probabilities': array([0.07420428, 0.15254468, 0.77325106], dtype=float32)},\n",
              " {'all_class_ids': array([0, 1, 2], dtype=int32),\n",
              "  'all_classes': array([b'0', b'1', b'2'], dtype=object),\n",
              "  'class_ids': array([0]),\n",
              "  'classes': array([b'0'], dtype=object),\n",
              "  'logits': array([ 0.7172495,  0.2116932, -0.5684649], dtype=float32),\n",
              "  'probabilities': array([0.5320216 , 0.32089943, 0.14707898], dtype=float32)},\n",
              " {'all_class_ids': array([0, 1, 2], dtype=int32),\n",
              "  'all_classes': array([b'0', b'1', b'2'], dtype=object),\n",
              "  'class_ids': array([2]),\n",
              "  'classes': array([b'2'], dtype=object),\n",
              "  'logits': array([-0.1458672 ,  0.187003  ,  0.30569983], dtype=float32),\n",
              "  'probabilities': array([0.25215986, 0.35175452, 0.3960856 ], dtype=float32)},\n",
              " {'all_class_ids': array([0, 1, 2], dtype=int32),\n",
              "  'all_classes': array([b'0', b'1', b'2'], dtype=object),\n",
              "  'class_ids': array([2]),\n",
              "  'classes': array([b'2'], dtype=object),\n",
              "  'logits': array([-0.8625387 , -0.22001858,  1.5972521 ], dtype=float32),\n",
              "  'probabilities': array([0.06847613, 0.13019134, 0.8013325 ], dtype=float32)},\n",
              " {'all_class_ids': array([0, 1, 2], dtype=int32),\n",
              "  'all_classes': array([b'0', b'1', b'2'], dtype=object),\n",
              "  'class_ids': array([0]),\n",
              "  'classes': array([b'0'], dtype=object),\n",
              "  'logits': array([ 0.783041  , -0.14813212, -0.5295677 ], dtype=float32),\n",
              "  'probabilities': array([0.6012476 , 0.23694634, 0.161806  ], dtype=float32)},\n",
              " {'all_class_ids': array([0, 1, 2], dtype=int32),\n",
              "  'all_classes': array([b'0', b'1', b'2'], dtype=object),\n",
              "  'class_ids': array([2]),\n",
              "  'classes': array([b'2'], dtype=object),\n",
              "  'logits': array([-0.9398493 ,  0.01468942,  1.5201148 ], dtype=float32),\n",
              "  'probabilities': array([0.06535152, 0.16974875, 0.76489973], dtype=float32)},\n",
              " {'all_class_ids': array([0, 1, 2], dtype=int32),\n",
              "  'all_classes': array([b'0', b'1', b'2'], dtype=object),\n",
              "  'class_ids': array([0]),\n",
              "  'classes': array([b'0'], dtype=object),\n",
              "  'logits': array([ 0.86721957,  0.1041504 , -0.6720252 ], dtype=float32),\n",
              "  'probabilities': array([0.59496313, 0.2773916 , 0.12764522], dtype=float32)},\n",
              " {'all_class_ids': array([0, 1, 2], dtype=int32),\n",
              "  'all_classes': array([b'0', b'1', b'2'], dtype=object),\n",
              "  'class_ids': array([2]),\n",
              "  'classes': array([b'2'], dtype=object),\n",
              "  'logits': array([-0.40158296,  0.0916681 ,  0.68526495], dtype=float32),\n",
              "  'probabilities': array([0.1784903 , 0.29230136, 0.5292083 ], dtype=float32)},\n",
              " {'all_class_ids': array([0, 1, 2], dtype=int32),\n",
              "  'all_classes': array([b'0', b'1', b'2'], dtype=object),\n",
              "  'class_ids': array([0]),\n",
              "  'classes': array([b'0'], dtype=object),\n",
              "  'logits': array([ 0.7842318 ,  0.16401008, -0.6214007 ], dtype=float32),\n",
              "  'probabilities': array([0.56084085, 0.3016343 , 0.13752486], dtype=float32)},\n",
              " {'all_class_ids': array([0, 1, 2], dtype=int32),\n",
              "  'all_classes': array([b'0', b'1', b'2'], dtype=object),\n",
              "  'class_ids': array([2]),\n",
              "  'classes': array([b'2'], dtype=object),\n",
              "  'logits': array([-0.60616267, -0.0222027 ,  1.0654775 ], dtype=float32),\n",
              "  'probabilities': array([0.12324358, 0.22099113, 0.65576524], dtype=float32)},\n",
              " {'all_class_ids': array([0, 1, 2], dtype=int32),\n",
              "  'all_classes': array([b'0', b'1', b'2'], dtype=object),\n",
              "  'class_ids': array([2]),\n",
              "  'classes': array([b'2'], dtype=object),\n",
              "  'logits': array([-0.51753277,  0.04037727,  0.8630949 ], dtype=float32),\n",
              "  'probabilities': array([0.14871183, 0.25980216, 0.59148604], dtype=float32)},\n",
              " {'all_class_ids': array([0, 1, 2], dtype=int32),\n",
              "  'all_classes': array([b'0', b'1', b'2'], dtype=object),\n",
              "  'class_ids': array([0]),\n",
              "  'classes': array([b'0'], dtype=object),\n",
              "  'logits': array([ 0.9264199 ,  0.14587072, -0.72795326], dtype=float32),\n",
              "  'probabilities': array([0.6062935 , 0.277776  , 0.11593052], dtype=float32)},\n",
              " {'all_class_ids': array([0, 1, 2], dtype=int32),\n",
              "  'all_classes': array([b'0', b'1', b'2'], dtype=object),\n",
              "  'class_ids': array([0]),\n",
              "  'classes': array([b'0'], dtype=object),\n",
              "  'logits': array([ 0.77696943, -0.02219803, -0.56963533], dtype=float32),\n",
              "  'probabilities': array([0.58485514, 0.26301125, 0.15213364], dtype=float32)},\n",
              " {'all_class_ids': array([0, 1, 2], dtype=int32),\n",
              "  'all_classes': array([b'0', b'1', b'2'], dtype=object),\n",
              "  'class_ids': array([2]),\n",
              "  'classes': array([b'2'], dtype=object),\n",
              "  'logits': array([-0.63011974, -0.14958641,  1.2215525 ], dtype=float32),\n",
              "  'probabilities': array([0.1112669 , 0.1799115 , 0.70882165], dtype=float32)},\n",
              " {'all_class_ids': array([0, 1, 2], dtype=int32),\n",
              "  'all_classes': array([b'0', b'1', b'2'], dtype=object),\n",
              "  'class_ids': array([2]),\n",
              "  'classes': array([b'2'], dtype=object),\n",
              "  'logits': array([-0.49527663, -0.1634725 ,  1.0464855 ], dtype=float32),\n",
              "  'probabilities': array([0.14151683, 0.19720085, 0.6612823 ], dtype=float32)},\n",
              " {'all_class_ids': array([0, 1, 2], dtype=int32),\n",
              "  'all_classes': array([b'0', b'1', b'2'], dtype=object),\n",
              "  'class_ids': array([0]),\n",
              "  'classes': array([b'0'], dtype=object),\n",
              "  'logits': array([ 0.73389995,  0.07666296, -0.55430746], dtype=float32),\n",
              "  'probabilities': array([0.5573993 , 0.28888968, 0.15371104], dtype=float32)},\n",
              " {'all_class_ids': array([0, 1, 2], dtype=int32),\n",
              "  'all_classes': array([b'0', b'1', b'2'], dtype=object),\n",
              "  'class_ids': array([0]),\n",
              "  'classes': array([b'0'], dtype=object),\n",
              "  'logits': array([ 0.86274606, -0.16207743, -0.5866361 ], dtype=float32),\n",
              "  'probabilities': array([0.6275199 , 0.2251917 , 0.14728849], dtype=float32)},\n",
              " {'all_class_ids': array([0, 1, 2], dtype=int32),\n",
              "  'all_classes': array([b'0', b'1', b'2'], dtype=object),\n",
              "  'class_ids': array([0]),\n",
              "  'classes': array([b'0'], dtype=object),\n",
              "  'logits': array([ 0.7831605 ,  0.20168829, -0.6285082 ], dtype=float32),\n",
              "  'probabilities': array([0.55468935, 0.31011277, 0.13519788], dtype=float32)},\n",
              " {'all_class_ids': array([0, 1, 2], dtype=int32),\n",
              "  'all_classes': array([b'0', b'1', b'2'], dtype=object),\n",
              "  'class_ids': array([2]),\n",
              "  'classes': array([b'2'], dtype=object),\n",
              "  'logits': array([-0.76187474, -0.07715225,  1.3435584 ], dtype=float32),\n",
              "  'probabilities': array([0.08933453, 0.17717016, 0.73349535], dtype=float32)},\n",
              " {'all_class_ids': array([0, 1, 2], dtype=int32),\n",
              "  'all_classes': array([b'0', b'1', b'2'], dtype=object),\n",
              "  'class_ids': array([2]),\n",
              "  'classes': array([b'2'], dtype=object),\n",
              "  'logits': array([-0.88772976, -0.14671446,  1.5506042 ], dtype=float32),\n",
              "  'probabilities': array([0.06871905, 0.144177  , 0.787104  ], dtype=float32)},\n",
              " {'all_class_ids': array([0, 1, 2], dtype=int32),\n",
              "  'all_classes': array([b'0', b'1', b'2'], dtype=object),\n",
              "  'class_ids': array([2]),\n",
              "  'classes': array([b'2'], dtype=object),\n",
              "  'logits': array([-0.32911828, -0.10977183,  0.7774719 ], dtype=float32),\n",
              "  'probabilities': array([0.18977882, 0.23632446, 0.5738967 ], dtype=float32)},\n",
              " {'all_class_ids': array([0, 1, 2], dtype=int32),\n",
              "  'all_classes': array([b'0', b'1', b'2'], dtype=object),\n",
              "  'class_ids': array([0]),\n",
              "  'classes': array([b'0'], dtype=object),\n",
              "  'logits': array([ 0.750414  ,  0.03329276, -0.56161106], dtype=float32),\n",
              "  'probabilities': array([0.5690128 , 0.27776673, 0.15322047], dtype=float32)},\n",
              " {'all_class_ids': array([0, 1, 2], dtype=int32),\n",
              "  'all_classes': array([b'0', b'1', b'2'], dtype=object),\n",
              "  'class_ids': array([0]),\n",
              "  'classes': array([b'0'], dtype=object),\n",
              "  'logits': array([ 0.8741426 ,  0.04153071, -0.6603846 ], dtype=float32),\n",
              "  'probabilities': array([0.60588825, 0.263508  , 0.1306038 ], dtype=float32)},\n",
              " {'all_class_ids': array([0, 1, 2], dtype=int32),\n",
              "  'all_classes': array([b'0', b'1', b'2'], dtype=object),\n",
              "  'class_ids': array([2]),\n",
              "  'classes': array([b'2'], dtype=object),\n",
              "  'logits': array([-0.5503195 ,  0.11392768,  0.92073375], dtype=float32),\n",
              "  'probabilities': array([0.13704553, 0.26628318, 0.59667134], dtype=float32)},\n",
              " {'all_class_ids': array([0, 1, 2], dtype=int32),\n",
              "  'all_classes': array([b'0', b'1', b'2'], dtype=object),\n",
              "  'class_ids': array([2]),\n",
              "  'classes': array([b'2'], dtype=object),\n",
              "  'logits': array([-0.9814256 , -0.28175452,  1.8021178 ], dtype=float32),\n",
              "  'probabilities': array([0.0521123 , 0.10490677, 0.842981  ], dtype=float32)},\n",
              " {'all_class_ids': array([0, 1, 2], dtype=int32),\n",
              "  'all_classes': array([b'0', b'1', b'2'], dtype=object),\n",
              "  'class_ids': array([0]),\n",
              "  'classes': array([b'0'], dtype=object),\n",
              "  'logits': array([ 0.87825644, -0.03808492, -0.6506673 ], dtype=float32),\n",
              "  'probabilities': array([0.6185254 , 0.24739762, 0.13407703], dtype=float32)},\n",
              " {'all_class_ids': array([0, 1, 2], dtype=int32),\n",
              "  'all_classes': array([b'0', b'1', b'2'], dtype=object),\n",
              "  'class_ids': array([0]),\n",
              "  'classes': array([b'0'], dtype=object),\n",
              "  'logits': array([ 0.7106707 ,  0.09016322, -0.54252106], dtype=float32),\n",
              "  'probabilities': array([0.5484671 , 0.29489514, 0.15663771], dtype=float32)},\n",
              " {'all_class_ids': array([0, 1, 2], dtype=int32),\n",
              "  'all_classes': array([b'0', b'1', b'2'], dtype=object),\n",
              "  'class_ids': array([0]),\n",
              "  'classes': array([b'0'], dtype=object),\n",
              "  'logits': array([ 0.9487001 , -0.20020272, -0.64156544], dtype=float32),\n",
              "  'probabilities': array([0.65752447, 0.20842499, 0.13405049], dtype=float32)},\n",
              " {'all_class_ids': array([0, 1, 2], dtype=int32),\n",
              "  'all_classes': array([b'0', b'1', b'2'], dtype=object),\n",
              "  'class_ids': array([2]),\n",
              "  'classes': array([b'2'], dtype=object),\n",
              "  'logits': array([-0.63707286, -0.05155994,  1.0888937 ], dtype=float32),\n",
              "  'probabilities': array([0.11885151, 0.21344683, 0.6677016 ], dtype=float32)},\n",
              " {'all_class_ids': array([0, 1, 2], dtype=int32),\n",
              "  'all_classes': array([b'0', b'1', b'2'], dtype=object),\n",
              "  'class_ids': array([2]),\n",
              "  'classes': array([b'2'], dtype=object),\n",
              "  'logits': array([-0.4923904 ,  0.23674107,  0.6895102 ], dtype=float32),\n",
              "  'probabilities': array([0.157882  , 0.32733345, 0.5147846 ], dtype=float32)},\n",
              " {'all_class_ids': array([0, 1, 2], dtype=int32),\n",
              "  'all_classes': array([b'0', b'1', b'2'], dtype=object),\n",
              "  'class_ids': array([0]),\n",
              "  'classes': array([b'0'], dtype=object),\n",
              "  'logits': array([ 0.8124301 ,  0.04757819, -0.6094642 ], dtype=float32),\n",
              "  'probabilities': array([0.58594   , 0.27269813, 0.14136188], dtype=float32)},\n",
              " {'all_class_ids': array([0, 1, 2], dtype=int32),\n",
              "  'all_classes': array([b'0', b'1', b'2'], dtype=object),\n",
              "  'class_ids': array([2]),\n",
              "  'classes': array([b'2'], dtype=object),\n",
              "  'logits': array([-0.3821185 , -0.03234909,  0.7933051 ], dtype=float32),\n",
              "  'probabilities': array([0.17673293, 0.25073814, 0.57252896], dtype=float32)},\n",
              " {'all_class_ids': array([0, 1, 2], dtype=int32),\n",
              "  'all_classes': array([b'0', b'1', b'2'], dtype=object),\n",
              "  'class_ids': array([0]),\n",
              "  'classes': array([b'0'], dtype=object),\n",
              "  'logits': array([ 0.88438344,  0.1457404 , -0.69952697], dtype=float32),\n",
              "  'probabilities': array([0.59420073, 0.2838864 , 0.12191288], dtype=float32)},\n",
              " {'all_class_ids': array([0, 1, 2], dtype=int32),\n",
              "  'all_classes': array([b'0', b'1', b'2'], dtype=object),\n",
              "  'class_ids': array([2]),\n",
              "  'classes': array([b'2'], dtype=object),\n",
              "  'logits': array([-0.8689996 , -0.06007452,  1.4566346 ], dtype=float32),\n",
              "  'probabilities': array([0.07419135, 0.16659614, 0.75921255], dtype=float32)},\n",
              " {'all_class_ids': array([0, 1, 2], dtype=int32),\n",
              "  'all_classes': array([b'0', b'1', b'2'], dtype=object),\n",
              "  'class_ids': array([2]),\n",
              "  'classes': array([b'2'], dtype=object),\n",
              "  'logits': array([-0.7094568, -0.3626487,  1.5820712], dtype=float32),\n",
              "  'probabilities': array([0.08127053, 0.11496084, 0.80376863], dtype=float32)},\n",
              " {'all_class_ids': array([0, 1, 2], dtype=int32),\n",
              "  'all_classes': array([b'0', b'1', b'2'], dtype=object),\n",
              "  'class_ids': array([2]),\n",
              "  'classes': array([b'2'], dtype=object),\n",
              "  'logits': array([-0.6384301 ,  0.01919856,  1.1030768 ], dtype=float32),\n",
              "  'probabilities': array([0.1157924 , 0.22350362, 0.66070396], dtype=float32)},\n",
              " {'all_class_ids': array([0, 1, 2], dtype=int32),\n",
              "  'all_classes': array([b'0', b'1', b'2'], dtype=object),\n",
              "  'class_ids': array([0]),\n",
              "  'classes': array([b'0'], dtype=object),\n",
              "  'logits': array([ 0.84486616,  0.12227295, -0.6612326 ], dtype=float32),\n",
              "  'probabilities': array([0.5857321 , 0.28436804, 0.12989986], dtype=float32)},\n",
              " {'all_class_ids': array([0, 1, 2], dtype=int32),\n",
              "  'all_classes': array([b'0', b'1', b'2'], dtype=object),\n",
              "  'class_ids': array([2]),\n",
              "  'classes': array([b'2'], dtype=object),\n",
              "  'logits': array([-0.44221252,  0.00846908,  0.8086495 ], dtype=float32),\n",
              "  'probabilities': array([0.16494207, 0.25885707, 0.5762009 ], dtype=float32)},\n",
              " {'all_class_ids': array([0, 1, 2], dtype=int32),\n",
              "  'all_classes': array([b'0', b'1', b'2'], dtype=object),\n",
              "  'class_ids': array([2]),\n",
              "  'classes': array([b'2'], dtype=object),\n",
              "  'logits': array([-0.9541884 , -0.06200933,  1.6233032 ], dtype=float32),\n",
              "  'probabilities': array([0.06022457, 0.14697456, 0.79280084], dtype=float32)},\n",
              " {'all_class_ids': array([0, 1, 2], dtype=int32),\n",
              "  'all_classes': array([b'0', b'1', b'2'], dtype=object),\n",
              "  'class_ids': array([0]),\n",
              "  'classes': array([b'0'], dtype=object),\n",
              "  'logits': array([ 0.82635957,  0.0773105 , -0.6312531 ], dtype=float32),\n",
              "  'probabilities': array([0.58630145, 0.27721268, 0.1364859 ], dtype=float32)},\n",
              " {'all_class_ids': array([0, 1, 2], dtype=int32),\n",
              "  'all_classes': array([b'0', b'1', b'2'], dtype=object),\n",
              "  'class_ids': array([2]),\n",
              "  'classes': array([b'2'], dtype=object),\n",
              "  'logits': array([-0.8722585 , -0.27386028,  1.697221  ], dtype=float32),\n",
              "  'probabilities': array([0.06297932, 0.11457213, 0.8224485 ], dtype=float32)},\n",
              " {'all_class_ids': array([0, 1, 2], dtype=int32),\n",
              "  'all_classes': array([b'0', b'1', b'2'], dtype=object),\n",
              "  'class_ids': array([2]),\n",
              "  'classes': array([b'2'], dtype=object),\n",
              "  'logits': array([-0.3005302 , -0.03306496,  0.71575046], dtype=float32),\n",
              "  'probabilities': array([0.19725625, 0.25774452, 0.5449992 ], dtype=float32)},\n",
              " {'all_class_ids': array([0, 1, 2], dtype=int32),\n",
              "  'all_classes': array([b'0', b'1', b'2'], dtype=object),\n",
              "  'class_ids': array([2]),\n",
              "  'classes': array([b'2'], dtype=object),\n",
              "  'logits': array([-0.4360599 ,  0.08884259,  0.6891671 ], dtype=float32),\n",
              "  'probabilities': array([0.17327389, 0.2928838 , 0.5338423 ], dtype=float32)}]"
            ]
          },
          "metadata": {
            "tags": []
          },
          "execution_count": 35
        }
      ]
    },
    {
      "cell_type": "code",
      "metadata": {
        "id": "KmALhP_OE_4H",
        "colab_type": "code",
        "outputId": "353fdd04-f45e-4e84-a06c-86df12575685",
        "colab": {
          "base_uri": "https://localhost:8080/",
          "height": 34
        }
      },
      "source": [
        "len(predictions)"
      ],
      "execution_count": 0,
      "outputs": [
        {
          "output_type": "execute_result",
          "data": {
            "text/plain": [
              "45"
            ]
          },
          "metadata": {
            "tags": []
          },
          "execution_count": 36
        }
      ]
    },
    {
      "cell_type": "code",
      "metadata": {
        "id": "0YSTmnZ1Fb0R",
        "colab_type": "code",
        "colab": {}
      },
      "source": [
        "ypred = []\n",
        "for i in predictions:\n",
        "  ypred.append(i['class_ids'][0])"
      ],
      "execution_count": 0,
      "outputs": []
    },
    {
      "cell_type": "code",
      "metadata": {
        "id": "ice05XwwFuVw",
        "colab_type": "code",
        "outputId": "039ed9dd-5ef5-4768-b85b-4ed6793c19a8",
        "colab": {
          "base_uri": "https://localhost:8080/",
          "height": 782
        }
      },
      "source": [
        "ypred"
      ],
      "execution_count": 0,
      "outputs": [
        {
          "output_type": "execute_result",
          "data": {
            "text/plain": [
              "[2,\n",
              " 2,\n",
              " 2,\n",
              " 0,\n",
              " 2,\n",
              " 2,\n",
              " 0,\n",
              " 2,\n",
              " 0,\n",
              " 2,\n",
              " 0,\n",
              " 2,\n",
              " 2,\n",
              " 0,\n",
              " 0,\n",
              " 2,\n",
              " 2,\n",
              " 0,\n",
              " 0,\n",
              " 0,\n",
              " 2,\n",
              " 2,\n",
              " 2,\n",
              " 0,\n",
              " 0,\n",
              " 2,\n",
              " 2,\n",
              " 0,\n",
              " 0,\n",
              " 0,\n",
              " 2,\n",
              " 2,\n",
              " 0,\n",
              " 2,\n",
              " 0,\n",
              " 2,\n",
              " 2,\n",
              " 2,\n",
              " 0,\n",
              " 2,\n",
              " 2,\n",
              " 0,\n",
              " 2,\n",
              " 2,\n",
              " 2]"
            ]
          },
          "metadata": {
            "tags": []
          },
          "execution_count": 42
        }
      ]
    },
    {
      "cell_type": "code",
      "metadata": {
        "id": "hRKDZ1wiF0de",
        "colab_type": "code",
        "colab": {}
      },
      "source": [
        "from sklearn.metrics import confusion_matrix"
      ],
      "execution_count": 0,
      "outputs": []
    },
    {
      "cell_type": "code",
      "metadata": {
        "id": "pavcxhPuGLte",
        "colab_type": "code",
        "colab": {}
      },
      "source": [
        "cm = confusion_matrix(y_test, ypred)"
      ],
      "execution_count": 0,
      "outputs": []
    },
    {
      "cell_type": "code",
      "metadata": {
        "id": "EaL_tCUxGW9H",
        "colab_type": "code",
        "outputId": "a293375b-f131-48b8-e263-93c3ea2c092a",
        "colab": {
          "base_uri": "https://localhost:8080/",
          "height": 68
        }
      },
      "source": [
        "cm"
      ],
      "execution_count": 0,
      "outputs": [
        {
          "output_type": "execute_result",
          "data": {
            "text/plain": [
              "array([[18,  0,  0],\n",
              "       [ 0,  0, 15],\n",
              "       [ 0,  0, 12]])"
            ]
          },
          "metadata": {
            "tags": []
          },
          "execution_count": 45
        }
      ]
    },
    {
      "cell_type": "code",
      "metadata": {
        "id": "uHA-iWcjGX-3",
        "colab_type": "code",
        "colab": {}
      },
      "source": [
        ""
      ],
      "execution_count": 0,
      "outputs": []
    }
  ]
}